{
  "nbformat": 4,
  "nbformat_minor": 0,
  "metadata": {
    "colab": {
      "name": "DL_Lab6.ipynb",
      "provenance": []
    },
    "kernelspec": {
      "name": "python3",
      "display_name": "Python 3"
    }
  },
  "cells": [
    {
      "cell_type": "code",
      "metadata": {
        "id": "07E409W7MBB-",
        "colab_type": "code",
        "colab": {}
      },
      "source": [
        ""
      ],
      "execution_count": 0,
      "outputs": []
    },
    {
      "cell_type": "code",
      "metadata": {
        "id": "jI89IzPLXclQ",
        "colab_type": "code",
        "outputId": "eea7fdc5-58a8-4c56-9fc3-50582629f9cb",
        "colab": {
          "base_uri": "https://localhost:8080/",
          "height": 34
        }
      },
      "source": [
        "from google.colab import drive\n",
        "drive.mount('/content/drive')"
      ],
      "execution_count": 0,
      "outputs": [
        {
          "output_type": "stream",
          "text": [
            "Drive already mounted at /content/drive; to attempt to forcibly remount, call drive.mount(\"/content/drive\", force_remount=True).\n"
          ],
          "name": "stdout"
        }
      ]
    },
    {
      "cell_type": "code",
      "metadata": {
        "id": "3FzlgmFeYCBo",
        "colab_type": "code",
        "colab": {}
      },
      "source": [
        "import sys\n",
        "f = open('/content/drive/My Drive/reviews.txt')\n",
        "raw_reviews = f.readlines()\n",
        "f.close()\n",
        "f = open('/content/drive/My Drive/labels.txt')\n",
        "raw_labels = f.readlines()\n",
        "f.close()\n",
        "tokens = list(map(lambda x:set(x.split(\" \")),raw_reviews))\n",
        "vocab = set()\n",
        "for sent in tokens:\n",
        " for word in sent:\n",
        "  if(len(word)>0):\n",
        "   vocab.add(word)\n",
        "vocab = list(vocab)\n",
        "word2index = {}\n",
        "for i,word in enumerate(vocab):\n",
        " word2index[word]=i\n",
        "input_dataset = list()\n",
        "for sent in tokens:\n",
        " sent_indices = list()\n",
        " for word in sent:\n",
        "  try:\n",
        "   sent_indices.append(word2index[word])\n",
        "  except:\n",
        "   \"\"\n",
        " input_dataset.append(list(set(sent_indices)))\n",
        "target_dataset = list()\n",
        "for label in raw_labels:\n",
        " if label == 'positive\\n':\n",
        "  target_dataset.append(1)\n",
        " else:\n",
        "  target_dataset.append(0)"
      ],
      "execution_count": 0,
      "outputs": []
    },
    {
      "cell_type": "code",
      "metadata": {
        "id": "ZtO5UWC9YNmY",
        "colab_type": "code",
        "outputId": "1e698fa7-17b3-4d76-f283-8907e0309c5e",
        "colab": {
          "base_uri": "https://localhost:8080/",
          "height": 68
        }
      },
      "source": [
        "import numpy as np\n",
        "np.random.seed(1)\n",
        "def sigmoid(x):\n",
        " return 1/(1 + np.exp(-x))\n",
        "alpha, iterations = (0.01, 2)\n",
        "hidden_size = 100\n",
        "weights_0_1 = 0.2*np.random.random((len(vocab),hidden_size)) - 0.1\n",
        "weights_1_2 = 0.2*np.random.random((hidden_size,1)) - 0.1\n",
        "correct,total = (0,0)\n",
        "for iter in range(iterations):\n",
        "\n",
        " for i in range(len(input_dataset)-1000):\n",
        "  x,y = (input_dataset[i],target_dataset[i])\n",
        "  layer_1 = sigmoid(np.sum(weights_0_1[x],axis=0))\n",
        "  layer_2 = sigmoid(np.dot(layer_1,weights_1_2))\n",
        "  layer_2_delta = layer_2 - y\n",
        "  layer_1_delta = layer_2_delta.dot(weights_1_2.T)\n",
        "  weights_0_1[x] -= layer_1_delta * alpha\n",
        "  weights_1_2 -= np.outer(layer_1,layer_2_delta) * alpha\n",
        "  if(np.abs(layer_2_delta) < 0.5):\n",
        "   correct += 1\n",
        "  total += 1\n",
        "  if(i % 10 == 9):\n",
        "   progress = str(i/float(len(input_dataset)))\n",
        "   sys.stdout.write('\\rIter:'+str(iter)\\\n",
        "    +' Progress:'+progress[2:4]\\\n",
        "    +'.'+progress[4:6]\\\n",
        "    +'% Training Accuracy:'\\\n",
        "    + str(correct/float(total)) + '%')\n",
        " print()\n",
        "correct,total = (0,0)\n",
        "for i in range(len(input_dataset)-1000,len(input_dataset)):\n",
        " x = input_dataset[i]\n",
        " y = target_dataset[i]\n",
        " layer_1 = sigmoid(np.sum(weights_0_1[x],axis=0))\n",
        " layer_2 = sigmoid(np.dot(layer_1,weights_1_2))\n",
        "\n",
        " if(np.abs(layer_2 - y) < 0.5):\n",
        "  correct += 1\n",
        " total += 1\n",
        "print(\"Test Accuracy:\" + str(correct / float(total)))"
      ],
      "execution_count": 0,
      "outputs": [
        {
          "output_type": "stream",
          "text": [
            "Iter:0 Progress:95.99% Training Accuracy:0.835125%\n",
            "Iter:1 Progress:95.99% Training Accuracy:0.8677291666666667%\n",
            "Test Accuracy:0.846\n"
          ],
          "name": "stdout"
        }
      ]
    },
    {
      "cell_type": "code",
      "metadata": {
        "id": "r-xvA86rgUjY",
        "colab_type": "code",
        "outputId": "e4da02d5-bcf7-422f-dfd6-e18dc1828ffc",
        "colab": {
          "base_uri": "https://localhost:8080/",
          "height": 54
        }
      },
      "source": [
        "print(similar('beautiful'))"
      ],
      "execution_count": 0,
      "outputs": [
        {
          "output_type": "stream",
          "text": [
            "[('beautiful', -0.0), ('heart', -0.6944176589527681), ('best', -0.7094488822780036), ('hilarious', -0.7112019954184997), ('beautifully', -0.7262163869704283), ('each', -0.731337848021812), ('different', -0.7353445531642877), ('sent', -0.7360596391565294), ('great', -0.7381042580150166), ('fun', -0.7386970883094257)]\n"
          ],
          "name": "stdout"
        }
      ]
    },
    {
      "cell_type": "code",
      "metadata": {
        "id": "9xPegxwabubT",
        "colab_type": "code",
        "colab": {}
      },
      "source": [
        "from collections import Counter\n",
        "import math\n",
        "def similar(target='beautiful'):\n",
        " target_index = word2index[target]\n",
        " scores = Counter()\n",
        " for word,index in word2index.items():\n",
        "  raw_difference = weights_0_1[index] - (weights_0_1[target_index])\n",
        "  squared_difference = raw_difference * raw_difference\n",
        "  scores[word] = -math.sqrt(sum(squared_difference))\n",
        " return scores.most_common(10)"
      ],
      "execution_count": 0,
      "outputs": []
    },
    {
      "cell_type": "code",
      "metadata": {
        "id": "ZhOZFeIkdNA0",
        "colab_type": "code",
        "outputId": "fbb51620-5267-4b28-eea2-ace6ce15783b",
        "colab": {
          "base_uri": "https://localhost:8080/",
          "height": 34
        }
      },
      "source": [
        "import sys,random,math\n",
        "from collections import Counter\n",
        "import numpy as np\n",
        "np.random.seed(1)\n",
        "random.seed(1)\n",
        "f = open('/content/drive/My Drive/reviews.txt')\n",
        "raw_reviews = f.readlines()\n",
        "f.close()\n",
        "tokens = list(map(lambda x:(x.split(\" \")),raw_reviews))\n",
        "wordcnt = Counter()\n",
        "for sent in tokens:\n",
        " for word in sent:\n",
        "  wordcnt[word] -= 1\n",
        "vocab = list(set(map(lambda x:x[0],wordcnt.most_common())))\n",
        "word2index = {}\n",
        "for i,word in enumerate(vocab):\n",
        " word2index[word]=i\n",
        "concatenated = list()\n",
        "input_dataset = list()\n",
        "for sent in tokens:\n",
        " sent_indices = list()\n",
        " for word in sent:\n",
        "  try:\n",
        "   sent_indices.append(word2index[word])\n",
        "   concatenated.append(word2index[word])\n",
        "  except:\n",
        "   \"\"\n",
        " input_dataset.append(sent_indices)\n",
        "concatenated = np.array(concatenated)\n",
        "random.shuffle(input_dataset)\n",
        "alpha, iterations = (0.05, 2)\n",
        "hidden_size,window,negative = (50,2,5)\n",
        "weights_0_1 = (np.random.rand(len(vocab),hidden_size) - 0.5) * 0.2\n",
        "weights_1_2 = np.random.rand(len(vocab),hidden_size)*0\n",
        "layer_2_target = np.zeros(negative+1)\n",
        "layer_2_target[0] = 1\n",
        "def similar(target='beautiful'):\n",
        " target_index = word2index[target]\n",
        " scores = Counter()\n",
        " for word,index in word2index.items():\n",
        "  raw_difference = weights_0_1[index] - (weights_0_1[target_index])\n",
        "  squared_difference = raw_difference * raw_difference\n",
        "  scores[word] = -math.sqrt(sum(squared_difference))\n",
        " return scores.most_common(10)\n",
        "def sigmoid(x):\n",
        " return 1/(1 + np.exp(-x))\n",
        "for rev_i,review in enumerate(input_dataset * iterations):\n",
        " for target_i in range(len(review)):\n",
        "\n",
        "  target_samples = [review[target_i]]+list(concatenated\\\n",
        "  [(np.random.rand(negative)*len(concatenated)).astype('int').tolist()])\n",
        "  left_context = review[max(0,target_i-window):target_i]\n",
        "  right_context = review[target_i+1:min(len(review),target_i+window)]\n",
        "  layer_1 = np.mean(weights_0_1[left_context+right_context],axis=0)\n",
        "  layer_2 = sigmoid(layer_1.dot(weights_1_2[target_samples].T))\n",
        "  layer_2_delta = layer_2 - layer_2_target\n",
        "  layer_1_delta = layer_2_delta.dot(weights_1_2[target_samples])\n",
        "  weights_0_1[left_context+right_context] -= layer_1_delta * alpha\n",
        "  weights_1_2[target_samples] -= np.outer(layer_2_delta,layer_1)*alpha\n",
        " if(rev_i % 250 == 0):\n",
        "  sys.stdout.write('\\rProgress:'+str(rev_i/float(len(input_dataset)\n",
        "   *iterations)) + \" \" + str(similar('terrible')))\n",
        " sys.stdout.write('\\rProgress:'+str(rev_i/float(len(input_dataset)\n",
        "   *iterations)))\n",
        "print(similar('terrible'))"
      ],
      "execution_count": 0,
      "outputs": [
        {
          "output_type": "stream",
          "text": [
            "Progress:0.19228"
          ],
          "name": "stdout"
        }
      ]
    },
    {
      "cell_type": "code",
      "metadata": {
        "id": "Tva2S3B4dPxQ",
        "colab_type": "code",
        "colab": {}
      },
      "source": [
        ""
      ],
      "execution_count": 0,
      "outputs": []
    },
    {
      "cell_type": "code",
      "metadata": {
        "id": "T5zgqOIkedex",
        "colab_type": "code",
        "colab": {}
      },
      "source": [
        ""
      ],
      "execution_count": 0,
      "outputs": []
    }
  ]
}